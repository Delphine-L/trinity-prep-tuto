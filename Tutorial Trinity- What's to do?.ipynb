{
 "cells": [
  {
   "cell_type": "markdown",
   "metadata": {},
   "source": [
    "## Get Tutorial Data"
   ]
  },
  {
   "cell_type": "markdown",
   "metadata": {},
   "source": [
    "## Assembly"
   ]
  },
  {
   "cell_type": "code",
   "execution_count": null,
   "metadata": {
    "collapsed": true
   },
   "outputs": [],
   "source": [
    " ./trinityrnaseq-Trinity-v2.4.0/util/Trinity --seqType fq --max_memory 50G --left TrinityNatureProtocolTutorial/reads.ALL.left.fq  --right TrinityNatureProtocolTutorial/reads.ALL.right.fq --CPU 6"
   ]
  },
  {
   "cell_type": "markdown",
   "metadata": {},
   "source": [
    "<b>Tool In Galaxy But Wrapper to improve</b>"
   ]
  },
  {
   "cell_type": "markdown",
   "metadata": {},
   "source": [
    "## Quality assessment of the assembly"
   ]
  },
  {
   "cell_type": "markdown",
   "metadata": {},
   "source": [
    "### Trinity Transcriptome Contig Nx \n"
   ]
  },
  {
   "cell_type": "markdown",
   "metadata": {},
   "source": [
    "<b>Stats about the assembled transcriptome, Nx transcript sizes. Uses a trinity script that needs to be wrapped, or RNA quast (need to build a conda recipe but could be based on the Quast recipe)</b>"
   ]
  },
  {
   "cell_type": "code",
   "execution_count": 1,
   "metadata": {
    "collapsed": false
   },
   "outputs": [
    {
     "name": "stdout",
     "output_type": "stream",
     "text": [
      "\n",
      "\n",
      "################################\n",
      "## Counts of transcripts, etc.\n",
      "################################\n",
      "Total trinity 'genes':\t8655\n",
      "Total trinity transcripts:\t8890\n",
      "Percent GC: 37.99\n",
      "\n",
      "########################################\n",
      "Stats based on ALL transcript contigs:\n",
      "########################################\n",
      "\n",
      "\tContig N10: 3492\n",
      "\tContig N20: 2853\n",
      "\tContig N30: 2392\n",
      "\tContig N40: 2053\n",
      "\tContig N50: 1770\n",
      "\n",
      "\tMedian contig length: 860\n",
      "\tAverage contig: 1145.35\n",
      "\tTotal assembled bases: 10182201\n",
      "\n",
      "\n",
      "#####################################################\n",
      "## Stats based on ONLY LONGEST ISOFORM per 'GENE':\n",
      "#####################################################\n",
      "\n",
      "\tContig N10: 3477\n",
      "\tContig N20: 2852\n",
      "\tContig N30: 2392\n",
      "\tContig N40: 2054\n",
      "\tContig N50: 1766\n",
      "\n",
      "\tMedian contig length: 852\n",
      "\tAverage contig: 1138.84\n",
      "\tTotal assembled bases: 9856665\n",
      "\n",
      "\n",
      "\n"
     ]
    },
    {
     "data": {
      "text/plain": [
       "################################\r",
       "## Counts of transcripts, etc.\r",
       "################################\r",
       "Total trinity 'genes':\t8655\r",
       "Total trinity transcripts:\t8890\r",
       "Percent GC: 37.99\r",
       "\r",
       "########################################\r",
       "Stats based on ALL transcript contigs:\r",
       "########################################\r",
       "\r",
       "\tContig N10: 3492\r",
       "\tContig N20: 2853\r",
       "\tContig N30: 2392\r",
       "\tContig N40: 2053\r",
       "\tContig N50: 1770\r",
       "\r",
       "\tMedian contig length: 860\r",
       "\tAverage contig: 1145.35\r",
       "\tTotal assembled bases: 10182201\r",
       "\r",
       "\r",
       "#####################################################\r",
       "## Stats based on ONLY LONGEST ISOFORM per 'GENE':\r",
       "#####################################################\r",
       "\r",
       "\tContig N10: 3477\r",
       "\tContig N20: 2852\r",
       "\tContig N30: 2392\r",
       "\tContig N40: 2054\r",
       "\tContig N50: 1766\r",
       "\r",
       "\tMedian contig length: 852\r",
       "\tAverage contig: 1138.84\r",
       "\tTotal assembled bases: 9856665"
      ]
     },
     "execution_count": 1,
     "metadata": {},
     "output_type": "execute_result"
    }
   ],
   "source": [
    "./trinityrnaseq-Trinity-v2.4.0/util/TrinityStats.pl Trinity_on_data_3_and_data_4__Assembled_Transcripts.fasta"
   ]
  },
  {
   "cell_type": "markdown",
   "metadata": {},
   "source": [
    "## Rnaseq read representation\n"
   ]
  },
  {
   "cell_type": "markdown",
   "metadata": {},
   "source": [
    "\"Assembled transcripts might not always fully represent properly paired-end reads, as some transcripts may be fragmented or short and only one fragment read of a pair may align. Simply aligning reads to your transcriptome assembly using bowtie or STAR will only capture the properly paired reads. To assess the read composition of our assembly, we want to capture and count all reads that map to our assembled transcripts, including the properly paired and those that are not.\n",
    "\n",
    "In order to comprehensively capture read alignments, we run the process below. Bowtie2 is used to align the reads to the transcriptome and then we count the number of proper pairs and improper or orphan read alignments.\""
   ]
  },
  {
   "cell_type": "markdown",
   "metadata": {},
   "source": [
    "<b> Bowtie In Galaxy : Do all step in one with the option : Use a Genome in History and Build Index </b>"
   ]
  },
  {
   "cell_type": "code",
   "execution_count": null,
   "metadata": {
    "collapsed": true
   },
   "outputs": [],
   "source": [
    "bowtie2-build Trinity_on_data_3_and_data_4__Assembled_Transcripts.fasta Trinity_on_data_3_and_data_4__Assembled_Transcripts.fasta"
   ]
  },
  {
   "cell_type": "code",
   "execution_count": null,
   "metadata": {
    "collapsed": true
   },
   "outputs": [],
   "source": [
    "bowtie2 -p 10 -q -x  Trinity_on_data_3_and_data_4__Assembled_Transcripts.fasta -1 TrinityNatureProtocolTutorial/reads.ALL.left.fq -2 TrinityNatureProtocolTutorial/reads.ALL.right.fq  2>&1 1> /dev/null | tee align_stats.txt"
   ]
  },
  {
   "cell_type": "code",
   "execution_count": null,
   "metadata": {
    "collapsed": true
   },
   "outputs": [],
   "source": [
    "bowtie2 -p 10 -q -x  Trinity_on_data_3_and_data_4__Assembled_Transcripts.fasta -1 TrinityNatureProtocolTutorial/reads.ALL.left.fq -2 TrinityNatureProtocolTutorial/reads.ALL.right.fq  2>&1 1> /dev/null | samtools view -bS - > mapped.bam | tee align_stats.txt "
   ]
  },
  {
   "cell_type": "markdown",
   "metadata": {},
   "source": [
    "<b>Samtools  in Galaxy </b>"
   ]
  },
  {
   "cell_type": "code",
   "execution_count": null,
   "metadata": {
    "collapsed": true
   },
   "outputs": [],
   "source": [
    "# sort the alignments by coordinate\n",
    "samtools sort mapped.bam -o bowtie2.coordSorted.bam\n",
    "\n",
    "# index the coordinate-sorted bam file\n",
    "samtools index bowtie2.nameSorted.1.bam\n",
    "\n",
    "# index the Trinity.fasta file\n",
    "samtools faidx Trinity.fasta\n",
    "\n",
    "# view the aligned reads along the Trinity assembly reference contigs.\n",
    "# note, you can do this by using the various graphical menu options in IGV (load genome 'Trinity.fasta', load file 'bowtie2.coordSorted.bam'), or you can use the command-line tool like so:\n",
    "\n",
    "igv.sh -g `pwd`/Trinity.fasta  `pwd`/bowtie2.coordSorted.bam"
   ]
  },
  {
   "cell_type": "markdown",
   "metadata": {},
   "source": [
    "## Transcript quantification\n"
   ]
  },
  {
   "cell_type": "code",
   "execution_count": null,
   "metadata": {
    "collapsed": true
   },
   "outputs": [],
   "source": [
    "./trinityrnaseq-Trinity-v2.4.0/util/align_and_estimate_abundance.pl  --transcripts Trinity_on_data_3_and_data_4__Assembled_Transcripts.fasta --seqType fa --left TrinityNatureProtocolTutorial/reads.ALL.left.fq --right TrinityNatureProtocolTutorial/reads.ALL.right.fq --est_method kallisto --output_dir output_trinity_quant --trinity_mode --prep_reference  "
   ]
  },
  {
   "cell_type": "markdown",
   "metadata": {},
   "source": [
    "<b>Replaced by Salmon (In galaxy)</b>"
   ]
  },
  {
   "cell_type": "code",
   "execution_count": null,
   "metadata": {
    "collapsed": true
   },
   "outputs": [],
   "source": [
    "salmon index -t transcripts.fasta -i transcripts_index --type quasi -k 31"
   ]
  },
  {
   "cell_type": "code",
   "execution_count": null,
   "metadata": {
    "collapsed": true
   },
   "outputs": [],
   "source": [
    "salmon quant -i transcripts_index -l A -1 TrinityNatureProtocolTutorial/reads.ALL.left.fq -2 TrinityNatureProtocolTutorial/reads.ALL.right.fq -o transcripts_quant"
   ]
  },
  {
   "cell_type": "markdown",
   "metadata": {},
   "source": [
    "<b>Or replaced by Kallisto (In test but not main)</b>"
   ]
  },
  {
   "cell_type": "code",
   "execution_count": null,
   "metadata": {
    "collapsed": true
   },
   "outputs": [],
   "source": [
    "kallisto index -i transcripts.idx transcripts.fasta"
   ]
  },
  {
   "cell_type": "code",
   "execution_count": null,
   "metadata": {
    "collapsed": true
   },
   "outputs": [],
   "source": [
    "kallisto quant -i transcripts.idx -o output -b 100 TrinityNatureProtocolTutorial/reads.ALL.left.fq TrinityNatureProtocolTutorial/reads.ALL.right.fq"
   ]
  },
  {
   "cell_type": "markdown",
   "metadata": {},
   "source": [
    "<b>Count matrix Generation : to wrap</b>"
   ]
  },
  {
   "cell_type": "code",
   "execution_count": null,
   "metadata": {
    "collapsed": true
   },
   "outputs": [],
   "source": [
    "./trinityrnaseq-Trinity-v2.4.0/util/abundance_estimates_to_matrix.pl --out_prefix kallisto  --est_method kallisto  output_trinity_quant/abundance.tsv"
   ]
  },
  {
   "cell_type": "markdown",
   "metadata": {},
   "source": [
    "### Trinity Transcriptome Contig Nx and ExNy Statistics\n"
   ]
  },
  {
   "cell_type": "markdown",
   "metadata": {},
   "source": [
    "<b>to Wrap </b> "
   ]
  },
  {
   "cell_type": "code",
   "execution_count": null,
   "metadata": {
    "collapsed": false
   },
   "outputs": [],
   "source": [
    "./trinityrnaseq-Trinity-v2.4.0/util/misc/contig_ExN50_statistic.pl kallisto.counts.matrix Trinity_on_data_3_and_data_4__Assembled_Transcripts.fasta | tee ExN50.stats"
   ]
  },
  {
   "cell_type": "markdown",
   "metadata": {},
   "source": [
    "To plot the ExN50"
   ]
  },
  {
   "cell_type": "code",
   "execution_count": null,
   "metadata": {
    "collapsed": true
   },
   "outputs": [],
   "source": []
  }
 ],
 "metadata": {
  "anaconda-cloud": {},
  "kernelspec": {
   "display_name": "MetaKernel Bash",
   "language": "bash",
   "name": "metakernel_bash"
  },
  "language_info": {
   "file_extension": ".sh",
   "help_links": [
    {
     "text": "MetaKernel Magics",
     "url": "https://github.com/calysto/metakernel/blob/master/metakernel/magics/README.md"
    }
   ],
   "mimetype": "text/x-bash",
   "name": "bash"
  }
 },
 "nbformat": 4,
 "nbformat_minor": 0
}
