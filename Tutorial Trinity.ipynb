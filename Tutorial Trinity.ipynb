{
 "cells": [
  {
   "cell_type": "markdown",
   "metadata": {},
   "source": [
    "## Get Tutorial Data"
   ]
  },
  {
   "cell_type": "code",
   "execution_count": 5,
   "metadata": {
    "collapsed": false
   },
   "outputs": [
    {
     "name": "stdout",
     "output_type": "stream",
     "text": [
      "bash: wget: command not found\r\n"
     ]
    },
    {
     "data": {
      "text/plain": [
       "bash: wget: command not found"
      ]
     },
     "execution_count": 5,
     "metadata": {},
     "output_type": "execute_result"
    }
   ],
   "source": [
    "wget  \"http://sourceforge.net/projects/trinityrnaseq/files/misc/Trinity NatureProtocolTutorial.tgz/download\""
   ]
  },
  {
   "cell_type": "code",
   "execution_count": 9,
   "metadata": {
    "collapsed": false
   },
   "outputs": [
    {
     "name": "stdout",
     "output_type": "stream",
     "text": [
      "Usage:\n",
      "  List:    tar -tf <archive-filename>\n",
      "  Extract: tar -xf <archive-filename>\n",
      "  Create:  tar -cf <archive-filename> [filenames...]\n",
      "  Help:    tar --help\n"
     ]
    },
    {
     "data": {
      "text/plain": [
       "Usage:\r",
       "  List:    tar -tf <archive-filename>\r",
       "  Extract: tar -xf <archive-filename>\r",
       "  Create:  tar -cf <archive-filename> [filenames...]\r",
       "  Help:    tar --help"
      ]
     },
     "execution_count": 9,
     "metadata": {},
     "output_type": "execute_result"
    }
   ],
   "source": [
    "tar -xf TrinityNatureProtocolTutorial.tgz"
   ]
  },
  {
   "cell_type": "code",
   "execution_count": 11,
   "metadata": {
    "collapsed": false
   },
   "outputs": [
    {
     "name": "stdout",
     "output_type": "stream",
     "text": [
      "Installations.ipynb\t\t\tTuto part in R.ipynb\n",
      "TrinityNatureProtocolTutorial\t\tUntitled.ipynb\n",
      "TrinityNatureProtocolTutorial.tgz\n"
     ]
    },
    {
     "data": {
      "text/plain": [
       "Installations.ipynb\t\t\tTuto part in R.ipynb\r",
       "TrinityNatureProtocolTutorial\t\tUntitled.ipynb\r",
       "TrinityNatureProtocolTutorial.tgz"
      ]
     },
     "execution_count": 11,
     "metadata": {},
     "output_type": "execute_result"
    }
   ],
   "source": [
    "ls"
   ]
  },
  {
   "cell_type": "code",
   "execution_count": 1,
   "metadata": {
    "collapsed": false
   },
   "outputs": [
    {
     "data": {},
     "execution_count": 1,
     "metadata": {},
     "output_type": "execute_result"
    }
   ],
   "source": [
    "cd TrinityNatureProtocolTutorial"
   ]
  },
  {
   "cell_type": "code",
   "execution_count": 2,
   "metadata": {
    "collapsed": false
   },
   "outputs": [
    {
     "name": "stdout",
     "output_type": "stream",
     "text": [
      "1M_READS_sample\t\t\treads.ALL.left.fq\n",
      "S_pombe_refTrans.fasta\t\tsamples_n_reads_described.txt\n"
     ]
    },
    {
     "data": {
      "text/plain": [
       "1M_READS_sample\t\t\treads.ALL.left.fq\r",
       "S_pombe_refTrans.fasta\t\tsamples_n_reads_described.txt"
      ]
     },
     "execution_count": 2,
     "metadata": {},
     "output_type": "execute_result"
    }
   ],
   "source": [
    "ls"
   ]
  },
  {
   "cell_type": "markdown",
   "metadata": {},
   "source": [
    "#### Concatenate read files\n"
   ]
  },
  {
   "cell_type": "code",
   "execution_count": null,
   "metadata": {
    "collapsed": true
   },
   "outputs": [],
   "source": [
    "cat 1M_READS_sample/*.left.fq > reads.ALL.left.fq"
   ]
  },
  {
   "cell_type": "code",
   "execution_count": 4,
   "metadata": {
    "collapsed": false
   },
   "outputs": [
    {
     "data": {},
     "execution_count": 4,
     "metadata": {},
     "output_type": "execute_result"
    }
   ],
   "source": [
    "cat 1M_READS_sample/*.right.fq > reads.ALL.right.fq"
   ]
  },
  {
   "cell_type": "code",
   "execution_count": null,
   "metadata": {
    "collapsed": true
   },
   "outputs": [],
   "source": [
    "cd ../"
   ]
  },
  {
   "cell_type": "markdown",
   "metadata": {},
   "source": []
  },
  {
   "cell_type": "markdown",
   "metadata": {},
   "source": [
    "## Assembly"
   ]
  },
  {
   "cell_type": "code",
   "execution_count": null,
   "metadata": {
    "collapsed": true
   },
   "outputs": [],
   "source": [
    " ./trinityrnaseq-Trinity-v2.4.0/util/Trinity --seqType fq --max_memory 50G --left TrinityNatureProtocolTutorial/reads.ALL.left.fq  --right TrinityNatureProtocolTutorial/reads.ALL.right.fq --CPU 6"
   ]
  },
  {
   "cell_type": "markdown",
   "metadata": {},
   "source": [
    "## Quality assessment of the assembly"
   ]
  },
  {
   "cell_type": "markdown",
   "metadata": {},
   "source": [
    "### Trinity Transcriptome Contig Nx and ExNy Statistics\n"
   ]
  },
  {
   "cell_type": "markdown",
   "metadata": {},
   "source": [
    "Stats about the assembled transcriptome, Nx transcript sizes. Uses a trinity script but may be replaced by transrate (In conda but having trouble getting it to work), or RNAQuast (not in Conda)"
   ]
  },
  {
   "cell_type": "code",
   "execution_count": 1,
   "metadata": {
    "collapsed": false
   },
   "outputs": [
    {
     "name": "stdout",
     "output_type": "stream",
     "text": [
      "\n",
      "\n",
      "################################\n",
      "## Counts of transcripts, etc.\n",
      "################################\n",
      "Total trinity 'genes':\t8655\n",
      "Total trinity transcripts:\t8890\n",
      "Percent GC: 37.99\n",
      "\n",
      "########################################\n",
      "Stats based on ALL transcript contigs:\n",
      "########################################\n",
      "\n",
      "\tContig N10: 3492\n",
      "\tContig N20: 2853\n",
      "\tContig N30: 2392\n",
      "\tContig N40: 2053\n",
      "\tContig N50: 1770\n",
      "\n",
      "\tMedian contig length: 860\n",
      "\tAverage contig: 1145.35\n",
      "\tTotal assembled bases: 10182201\n",
      "\n",
      "\n",
      "#####################################################\n",
      "## Stats based on ONLY LONGEST ISOFORM per 'GENE':\n",
      "#####################################################\n",
      "\n",
      "\tContig N10: 3477\n",
      "\tContig N20: 2852\n",
      "\tContig N30: 2392\n",
      "\tContig N40: 2054\n",
      "\tContig N50: 1766\n",
      "\n",
      "\tMedian contig length: 852\n",
      "\tAverage contig: 1138.84\n",
      "\tTotal assembled bases: 9856665\n",
      "\n",
      "\n",
      "\n"
     ]
    },
    {
     "data": {
      "text/plain": [
       "################################\r",
       "## Counts of transcripts, etc.\r",
       "################################\r",
       "Total trinity 'genes':\t8655\r",
       "Total trinity transcripts:\t8890\r",
       "Percent GC: 37.99\r",
       "\r",
       "########################################\r",
       "Stats based on ALL transcript contigs:\r",
       "########################################\r",
       "\r",
       "\tContig N10: 3492\r",
       "\tContig N20: 2853\r",
       "\tContig N30: 2392\r",
       "\tContig N40: 2053\r",
       "\tContig N50: 1770\r",
       "\r",
       "\tMedian contig length: 860\r",
       "\tAverage contig: 1145.35\r",
       "\tTotal assembled bases: 10182201\r",
       "\r",
       "\r",
       "#####################################################\r",
       "## Stats based on ONLY LONGEST ISOFORM per 'GENE':\r",
       "#####################################################\r",
       "\r",
       "\tContig N10: 3477\r",
       "\tContig N20: 2852\r",
       "\tContig N30: 2392\r",
       "\tContig N40: 2054\r",
       "\tContig N50: 1766\r",
       "\r",
       "\tMedian contig length: 852\r",
       "\tAverage contig: 1138.84\r",
       "\tTotal assembled bases: 9856665"
      ]
     },
     "execution_count": 1,
     "metadata": {},
     "output_type": "execute_result"
    }
   ],
   "source": [
    "./trinityrnaseq-Trinity-v2.4.0/util/TrinityStats.pl Trinity_on_data_3_and_data_4__Assembled_Transcripts.fasta"
   ]
  },
  {
   "cell_type": "markdown",
   "metadata": {},
   "source": [
    "## Counting Full Length Trinity Transcripts"
   ]
  },
  {
   "cell_type": "markdown",
   "metadata": {},
   "source": [
    "\"One metric for evaluating the quality of a transcriptome assembly is to examine the number of transcripts that were assembled that appear to be full-length or nearly full-length. Such an analysis with a reference transcript set, such as from human or mouse, is relatively straightforward, since one can align the assembled transcripts to the reference transcripts and examine the length coverage. For non-model organisms, no such reference transcript set is available. If a high quality annotation exists for a closely related organism, then one might compare the assembled transcripts to that closely related transcriptome to examine full-length coverage\""
   ]
  },
  {
   "cell_type": "markdown",
   "metadata": {},
   "source": [
    "First part is building a blast db from a fasta referece (given in the training data), then blast the assembly against the blast db."
   ]
  },
  {
   "cell_type": "code",
   "execution_count": 2,
   "metadata": {
    "collapsed": false
   },
   "outputs": [
    {
     "name": "stdout",
     "output_type": "stream",
     "text": [
      "\n",
      "\n",
      "Building a new DB, current time: 09/19/2017 14:32:06\n",
      "New DB name:   /Volumes/Bowtruckle/tutoTrinity/TrinityNatureProtocolTutorial/S_pombe_refTrans.fasta\n",
      "New DB title:  TrinityNatureProtocolTutorial/S_pombe_refTrans.fasta\n",
      "Sequence type: Nucleotide\n",
      "Deleted existing Nucleotide BLAST database named /Volumes/Bowtruckle/tutoTrinity/TrinityNatureProtocolTutorial/S_pombe_refTrans.fasta\n",
      "Keep MBits: T\n",
      "Maximum file size: 1000000000B\n",
      "Adding sequences from FASTA; added 5163 sequences in 5.8289 seconds.\n"
     ]
    },
    {
     "data": {
      "text/plain": [
       "Building a new DB, current time: 09/19/2017 14:32:06\r",
       "New DB name:   /Volumes/Bowtruckle/tutoTrinity/TrinityNatureProtocolTutorial/S_pombe_refTrans.fasta\r",
       "New DB title:  TrinityNatureProtocolTutorial/S_pombe_refTrans.fasta\r",
       "Sequence type: Nucleotide\r",
       "Deleted existing Nucleotide BLAST database named /Volumes/Bowtruckle/tutoTrinity/TrinityNatureProtocolTutorial/S_pombe_refTrans.fasta\r",
       "Keep MBits: T\r",
       "Maximum file size: 1000000000B\r",
       "Adding sequences from FASTA; added 5163 sequences in 5.8289 seconds."
      ]
     },
     "execution_count": 2,
     "metadata": {},
     "output_type": "execute_result"
    }
   ],
   "source": [
    "makeblastdb -in TrinityNatureProtocolTutorial/S_pombe_refTrans.fasta -dbtype nucl"
   ]
  },
  {
   "cell_type": "code",
   "execution_count": null,
   "metadata": {
    "collapsed": true
   },
   "outputs": [],
   "source": [
    "blastn -query Trinity_on_data_3_and_data_4__Assembled_Transcripts.fasta -db TrinityNatureProtocolTutorial/S_pombe_refTrans.fasta -out Trinity_vs_S_pombe_refTrans.blastn -evalue 1e-20 -dust no -task megablast -num_threads 2 -max_target_seqs 1 -outfmt 6"
   ]
  },
  {
   "cell_type": "markdown",
   "metadata": {
    "collapsed": false
   },
   "source": [
    "The result examine the percent of the target being aligned to by the best matching Trinity transcript. Haven't found a replacement.\n",
    "\n",
    "\"This will create a file called 'blastx.outfmt6.txt.w_pct_hit_length' that adds fields to the blastx output file, including the top hit's length, percent of the hit's length included in the alignment to the Trinity transcript, and the header description for that database entry.\n",
    "\n",
    "In addition, the distribution of percent length coverage for the top matching database entries is provided as follows.\"\n"
   ]
  },
  {
   "cell_type": "code",
   "execution_count": 7,
   "metadata": {
    "collapsed": false
   },
   "outputs": [
    {
     "name": "stdout",
     "output_type": "stream",
     "text": [
      "#hit_pct_cov_bin\tcount_in_bin\t>bin_below\n",
      "100\t3252\t3252\n",
      "90\t184\t3436\n",
      "80\t153\t3589\n",
      "70\t185\t3774\n",
      "60\t196\t3970\n",
      "50\t195\t4165\n",
      "40\t178\t4343\n",
      "30\t119\t4462\n",
      "20\t87\t4549\n",
      "10\t14\t4563\n"
     ]
    },
    {
     "data": {
      "text/plain": [
       "#hit_pct_cov_bin\tcount_in_bin\t>bin_below\r",
       "100\t3252\t3252\r",
       "90\t184\t3436\r",
       "80\t153\t3589\r",
       "70\t185\t3774\r",
       "60\t196\t3970\r",
       "50\t195\t4165\r",
       "40\t178\t4343\r",
       "30\t119\t4462\r",
       "20\t87\t4549\r",
       "10\t14\t4563"
      ]
     },
     "execution_count": 7,
     "metadata": {},
     "output_type": "execute_result"
    }
   ],
   "source": [
    "./trinityrnaseq-Trinity-v2.4.0/util/analyze_blastPlus_topHit_coverage.pl Trinity_vs_S_pombe_refTrans.blastn Trinity_on_data_3_and_data_4__Assembled_Transcripts.fasta  TrinityNatureProtocolTutorial/S_pombe_refTrans.fasta"
   ]
  },
  {
   "cell_type": "code",
   "execution_count": 1,
   "metadata": {
    "collapsed": false
   },
   "outputs": [
    {
     "name": "stdout",
     "output_type": "stream",
     "text": [
      "Docker.qcow2\n",
      "Installations.ipynb\n",
      "TrinityNatureProtocolTutorial\n",
      "TrinityNatureProtocolTutorial.tgz\n",
      "Trinity_on_data_3_and_data_4__Assembled_Transcripts.fasta\n",
      "Trinity_vs_S_pombe_refTrans.blastn\n",
      "Trinity_vs_S_pombe_refTrans.blastn.hist\n",
      "Trinity_vs_S_pombe_refTrans.blastn.hist.list\n",
      "Trinity_vs_S_pombe_refTrans.blastn.w_pct_hit_length\n",
      "Tuto part in R.ipynb\n",
      "Untitled.ipynb\n",
      "trinityrnaseq-Trinity-v2.4.0\n",
      "trinityrnaseq-Trinity-v2.4.0.tar.gz\n"
     ]
    },
    {
     "data": {
      "text/plain": [
       "Docker.qcow2\r",
       "Installations.ipynb\r",
       "TrinityNatureProtocolTutorial\r",
       "TrinityNatureProtocolTutorial.tgz\r",
       "Trinity_on_data_3_and_data_4__Assembled_Transcripts.fasta\r",
       "Trinity_vs_S_pombe_refTrans.blastn\r",
       "Trinity_vs_S_pombe_refTrans.blastn.hist\r",
       "Trinity_vs_S_pombe_refTrans.blastn.hist.list\r",
       "Trinity_vs_S_pombe_refTrans.blastn.w_pct_hit_length\r",
       "Tuto part in R.ipynb\r",
       "Untitled.ipynb\r",
       "trinityrnaseq-Trinity-v2.4.0\r",
       "trinityrnaseq-Trinity-v2.4.0.tar.gz"
      ]
     },
     "execution_count": 1,
     "metadata": {},
     "output_type": "execute_result"
    }
   ],
   "source": [
    "ls"
   ]
  },
  {
   "cell_type": "markdown",
   "metadata": {},
   "source": []
  },
  {
   "cell_type": "code",
   "execution_count": null,
   "metadata": {
    "collapsed": true
   },
   "outputs": [],
   "source": [
    "trinityrnaseq-Trinity-v2.4.0/util/analyze_blastPlus_topHit_coverage.pl blastx.outfmt6 Trinity_on_data_3_and_data_4__Assembled_Transcripts.fasta  TrinityNatureProtocolTutorial/S_pombe_refTrans.fasta"
   ]
  },
  {
   "cell_type": "code",
   "execution_count": null,
   "metadata": {
    "collapsed": true
   },
   "outputs": [],
   "source": [
    "trinityrnaseq-Trinity-v2.4.0/util/misc/blast_outfmt6_group_segments.pl blastx.outfmt6 Trinity_on_data_3_and_data_4__Assembled_Transcripts.fasta TrinityNatureProtocolTutorial/S_pombe_refTrans.fasta >  blastx.outfmt6.grouped"
   ]
  },
  {
   "cell_type": "code",
   "execution_count": null,
   "metadata": {
    "collapsed": true
   },
   "outputs": [],
   "source": [
    "trinityrnaseq-Trinity-v2.4.0/util/misc/blast_outfmt6_group_segments.tophit_coverage.pl blastx.outfmt6.grouped"
   ]
  },
  {
   "cell_type": "markdown",
   "metadata": {},
   "source": [
    "## Rnaseq read representation\n"
   ]
  },
  {
   "cell_type": "markdown",
   "metadata": {},
   "source": [
    "\"Assembled transcripts might not always fully represent properly paired-end reads, as some transcripts may be fragmented or short and only one fragment read of a pair may align. Simply aligning reads to your transcriptome assembly using bowtie or STAR will only capture the properly paired reads. To assess the read composition of our assembly, we want to capture and count all reads that map to our assembled transcripts, including the properly paired and those that are not.\n",
    "\n",
    "In order to comprehensively capture read alignments, we run the process below. Bowtie2 is used to align the reads to the transcriptome and then we count the number of proper pairs and improper or orphan read alignments.\""
   ]
  },
  {
   "cell_type": "code",
   "execution_count": null,
   "metadata": {
    "collapsed": true
   },
   "outputs": [],
   "source": [
    "bowtie2-build Trinity_on_data_3_and_data_4__Assembled_Transcripts.fasta Trinity_on_data_3_and_data_4__Assembled_Transcripts.fasta"
   ]
  },
  {
   "cell_type": "code",
   "execution_count": null,
   "metadata": {
    "collapsed": true
   },
   "outputs": [],
   "source": [
    "bowtie2 -p 10 -q -x  Trinity_on_data_3_and_data_4__Assembled_Transcripts.fasta -1 TrinityNatureProtocolTutorial/reads.ALL.left.fq -2 TrinityNatureProtocolTutorial/reads.ALL.right.fq  2>&1 1> /dev/null | tee align_stats.txt"
   ]
  },
  {
   "cell_type": "code",
   "execution_count": null,
   "metadata": {
    "collapsed": true
   },
   "outputs": [],
   "source": [
    "bowtie2 -p 10 -q -x  Trinity_on_data_3_and_data_4__Assembled_Transcripts.fasta -1 TrinityNatureProtocolTutorial/reads.ALL.left.fq -2 TrinityNatureProtocolTutorial/reads.ALL.right.fq  2>&1 1> /dev/null | samtools view -bS - > mapped.bam | tee align_stats.txt "
   ]
  },
  {
   "cell_type": "code",
   "execution_count": null,
   "metadata": {
    "collapsed": true
   },
   "outputs": [],
   "source": [
    "# sort the alignments by coordinate\n",
    "samtools sort mapped.bam -o bowtie2.coordSorted.bam\n",
    "\n",
    "# index the coordinate-sorted bam file\n",
    "samtools index bowtie2.nameSorted.1.bam\n",
    "\n",
    "# index the Trinity.fasta file\n",
    "samtools faidx Trinity.fasta\n",
    "\n",
    "# view the aligned reads along the Trinity assembly reference contigs.\n",
    "# note, you can do this by using the various graphical menu options in IGV (load genome 'Trinity.fasta', load file 'bowtie2.coordSorted.bam'), or you can use the command-line tool like so:\n",
    "\n",
    "igv.sh -g `pwd`/Trinity.fasta  `pwd`/bowtie2.coordSorted.bam"
   ]
  },
  {
   "cell_type": "markdown",
   "metadata": {},
   "source": [
    "## Transcript quantification\n"
   ]
  },
  {
   "cell_type": "markdown",
   "metadata": {},
   "source": [
    "### Alignment-free abundance estimation methods"
   ]
  },
  {
   "cell_type": "code",
   "execution_count": null,
   "metadata": {
    "collapsed": true
   },
   "outputs": [],
   "source": [
    "salmon index -t transcripts.fasta -i transcripts_index --type quasi -k 31"
   ]
  },
  {
   "cell_type": "code",
   "execution_count": null,
   "metadata": {
    "collapsed": true
   },
   "outputs": [],
   "source": [
    "salmon quant -i transcripts_index -l A -1 TrinityNatureProtocolTutorial/reads.ALL.left.fq -2 TrinityNatureProtocolTutorial/reads.ALL.right.fq -o transcripts_quant"
   ]
  },
  {
   "cell_type": "markdown",
   "metadata": {},
   "source": [
    "with Kallisto : "
   ]
  },
  {
   "cell_type": "code",
   "execution_count": null,
   "metadata": {
    "collapsed": true
   },
   "outputs": [],
   "source": [
    "kallisto index -i transcripts.idx transcripts.fasta"
   ]
  },
  {
   "cell_type": "code",
   "execution_count": null,
   "metadata": {
    "collapsed": true
   },
   "outputs": [],
   "source": [
    "kallisto quant -i transcripts.idx -o output -b 100 TrinityNatureProtocolTutorial/reads.ALL.left.fq TrinityNatureProtocolTutorial/reads.ALL.right.fq"
   ]
  },
  {
   "cell_type": "markdown",
   "metadata": {},
   "source": [
    "### Alignment-based abundance estimation methods"
   ]
  },
  {
   "cell_type": "markdown",
   "metadata": {},
   "source": [
    "RSEM tool (in conda and toolshed, being tested)"
   ]
  },
  {
   "cell_type": "code",
   "execution_count": null,
   "metadata": {
    "collapsed": true
   },
   "outputs": [],
   "source": []
  },
  {
   "cell_type": "markdown",
   "metadata": {},
   "source": [
    "### Build Transcript and Gene Expression Matrices\n",
    "\n"
   ]
  },
  {
   "cell_type": "markdown",
   "metadata": {
    "collapsed": true
   },
   "source": [
    "tximport tools can then be used, then Deseq2 \n",
    "\n",
    "tximport in conda, not in galaxy.\n",
    "\n",
    "Working on testing tximport"
   ]
  },
  {
   "cell_type": "code",
   "execution_count": null,
   "metadata": {
    "collapsed": true
   },
   "outputs": [],
   "source": []
  }
 ],
 "metadata": {
  "anaconda-cloud": {},
  "kernelspec": {
   "display_name": "MetaKernel Bash",
   "language": "bash",
   "name": "metakernel_bash"
  },
  "language_info": {
   "file_extension": ".sh",
   "help_links": [
    {
     "text": "MetaKernel Magics",
     "url": "https://github.com/calysto/metakernel/blob/master/metakernel/magics/README.md"
    }
   ],
   "mimetype": "text/x-bash",
   "name": "bash"
  }
 },
 "nbformat": 4,
 "nbformat_minor": 0
}
